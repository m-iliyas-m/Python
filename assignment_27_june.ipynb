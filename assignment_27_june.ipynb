{
 "cells": [
  {
   "cell_type": "markdown",
   "id": "e7e2210a-cee2-4927-9cda-5e9ee19439a7",
   "metadata": {},
   "source": [
    "# 1. Swap two number without third variable."
   ]
  },
  {
   "cell_type": "code",
   "execution_count": 3,
   "id": "63536e94-a4c9-4a5f-9c7e-dfd06c9662ff",
   "metadata": {},
   "outputs": [
    {
     "name": "stdout",
     "output_type": "stream",
     "text": [
      "Before swap  10 20\n",
      "After swap 20 10\n"
     ]
    }
   ],
   "source": [
    "a = 10\n",
    "b = 20\n",
    "print(\"Before swap \",a,b)\n",
    "a = a+b\n",
    "b= a-b\n",
    "a = a-b\n",
    "print(\"After swap\",a,b)"
   ]
  },
  {
   "cell_type": "markdown",
   "id": "dd14c60f-df51-42fa-85b2-709bf0a7c82e",
   "metadata": {},
   "source": [
    "# 2. HCF"
   ]
  },
  {
   "cell_type": "code",
   "execution_count": 11,
   "id": "97c52fb9-729b-44b1-ab53-dca78b44f305",
   "metadata": {},
   "outputs": [
    {
     "name": "stdin",
     "output_type": "stream",
     "text": [
      "Enter x: 6\n",
      "Enter y: 9\n"
     ]
    },
    {
     "name": "stdout",
     "output_type": "stream",
     "text": [
      "HCF :  18\n"
     ]
    }
   ],
   "source": [
    "def Hcf(x,y):\n",
    "    if(x>=y):\n",
    "        check = x\n",
    "    else:\n",
    "        check= y\n",
    "    while(check%x != 0 or check%y != 0):\n",
    "        check +=1\n",
    "    return check\n",
    "\n",
    "x = int(input(\"Enter x:\"))\n",
    "y = int(input(\"Enter y:\"))\n",
    "print(\"HCF : \",Hcf(x,y))\n"
   ]
  },
  {
   "cell_type": "code",
   "execution_count": 17,
   "id": "f555d4c4-6749-4174-97c8-fc7a915203bc",
   "metadata": {},
   "outputs": [
    {
     "name": "stdin",
     "output_type": "stream",
     "text": [
      "Enter x: 36\n",
      "Enter y: 24\n"
     ]
    },
    {
     "name": "stdout",
     "output_type": "stream",
     "text": [
      "LCM:  12\n"
     ]
    }
   ],
   "source": [
    "def lcm(x,y):\n",
    "    if(x>=y):\n",
    "        check = y\n",
    "    else:\n",
    "        check= x\n",
    "    while(x%check != 0 or y%check != 0):\n",
    "        check -=1\n",
    "    return check\n",
    "\n",
    "x = int(input(\"Enter x:\"))\n",
    "y = int(input(\"Enter y:\"))\n",
    "print(\"LCM: \",lcm(x,y))"
   ]
  },
  {
   "cell_type": "code",
   "execution_count": null,
   "id": "67148c24-eb10-4473-b786-b43c0c244eda",
   "metadata": {},
   "outputs": [],
   "source": []
  },
  {
   "cell_type": "code",
   "execution_count": null,
   "id": "5ea50316-3add-4b01-89d5-fce64e7ea578",
   "metadata": {},
   "outputs": [],
   "source": []
  }
 ],
 "metadata": {
  "kernelspec": {
   "display_name": "Python 3 (ipykernel)",
   "language": "python",
   "name": "python3"
  },
  "language_info": {
   "codemirror_mode": {
    "name": "ipython",
    "version": 3
   },
   "file_extension": ".py",
   "mimetype": "text/x-python",
   "name": "python",
   "nbconvert_exporter": "python",
   "pygments_lexer": "ipython3",
   "version": "3.9.13"
  }
 },
 "nbformat": 4,
 "nbformat_minor": 5
}
