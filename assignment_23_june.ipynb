{
 "cells": [
  {
   "cell_type": "markdown",
   "id": "06a361fc-2df1-4c82-8b11-874425979628",
   "metadata": {},
   "source": [
    "### 1. Palindrome using for loop"
   ]
  },
  {
   "cell_type": "code",
   "execution_count": null,
   "id": "ea86b54e-fc21-4a1f-86d9-f0c0b3b4c4b4",
   "metadata": {},
   "outputs": [],
   "source": [
    "pal_num=input(\"Enter a number to check palindrome or not :- \")\n",
    "check = \"\"\n",
    "for i in range(len(pal_num)-1,-1,-1):\n",
    "        check += pal_num[i]\n",
    "if(check == pal_num):\n",
    "    print(\"Its a palindrome number\")\n",
    "else:\n",
    "    print(\"It is not a palindrome number\")\n",
    "    "
   ]
  },
  {
   "cell_type": "markdown",
   "id": "842a9779-9de9-499b-b2ec-13277ef3a2ad",
   "metadata": {},
   "source": [
    "### 2. Take a input from user and check how many vowels are there"
   ]
  },
  {
   "cell_type": "code",
   "execution_count": null,
   "id": "095f10ac-d3f1-4cbc-bea3-c3b2a65308cc",
   "metadata": {},
   "outputs": [],
   "source": [
    "vow = input(\"Enter a string : - \")\n",
    "count = 0\n",
    "for i in range(0,len(vow)):\n",
    "    if(vow[i] ==  \"a\" or vow[i] ==  \"e\" or  vow[i] ==  \"i\" or vow[i] ==  \"o\" or vow[i] ==  \"u\"):\n",
    "        count+=1\n",
    "print(\"there are\",count,\"vowels in this string\")"
   ]
  },
  {
   "cell_type": "markdown",
   "id": "bf1af13f-ee07-4892-9d04-35f8c8121aad",
   "metadata": {},
   "source": [
    "### 3. Take a input from user and check how many individual vowels are there."
   ]
  },
  {
   "cell_type": "code",
   "execution_count": null,
   "id": "a8f3a768-fb9f-4dab-8b73-81897238d20d",
   "metadata": {},
   "outputs": [],
   "source": [
    "vow = input(\"Enter a string : - \")\n",
    "a=e=i=o=u=0\n",
    "for index in range(0,len(vow)):\n",
    "    if(vow[index] ==  \"a\"):\n",
    "        a+=1\n",
    "    elif(vow[index] ==  \"e\"):\n",
    "        e+=1\n",
    "    elif(vow[index] ==  \"i\"):\n",
    "        i+=1\n",
    "    elif(vow[index] ==  \"o\"):\n",
    "        o+=1\n",
    "    elif(vow[index] ==  \"u\"):\n",
    "        u+=1\n",
    "print(\"a=\",a,\"\\ne=\",e,\"\\ni=\",i,\"\\no=\",o,\"\\nu=\",u)"
   ]
  },
  {
   "cell_type": "markdown",
   "id": "f9e825be-60e9-48a9-9bc0-09208da2d2eb",
   "metadata": {},
   "source": [
    "### 4.Take a inut from user whereever a vowel come so ,replace it with #"
   ]
  },
  {
   "cell_type": "code",
   "execution_count": null,
   "id": "dd540a71-c715-4b44-9cea-4c2e9711a6c0",
   "metadata": {},
   "outputs": [],
   "source": [
    "vow = input(\"Enter a string : - \")\n",
    "for i in range(0,len(vow)):\n",
    "    if(vow[i] ==  \"a\" or vow[i] ==  \"e\" or  vow[i] ==  \"i\" or vow[i] ==  \"o\" or vow[i] ==  \"u\"):\n",
    "        vow= vow.replace(vow[i],\"#\")\n",
    "\n",
    "print(vow)"
   ]
  },
  {
   "cell_type": "markdown",
   "id": "e973ed79-d433-441c-b9e2-04cb93729f26",
   "metadata": {},
   "source": [
    "### 5. Take a input from a user , if a string a str data type then get all the unique words from the string"
   ]
  },
  {
   "cell_type": "code",
   "execution_count": null,
   "id": "5d16fbb1-ed99-4680-aa43-3f4c8d55e40b",
   "metadata": {},
   "outputs": [],
   "source": [
    "string= input(\"Enter a string : - \")\n",
    "word = string.split(\" \")\n",
    "print(*word , sep=\"\\n\")"
   ]
  }
 ],
 "metadata": {
  "kernelspec": {
   "display_name": "Python 3 (ipykernel)",
   "language": "python",
   "name": "python3"
  },
  "language_info": {
   "codemirror_mode": {
    "name": "ipython",
    "version": 3
   },
   "file_extension": ".py",
   "mimetype": "text/x-python",
   "name": "python",
   "nbconvert_exporter": "python",
   "pygments_lexer": "ipython3",
   "version": "3.9.13"
  }
 },
 "nbformat": 4,
 "nbformat_minor": 5
}
