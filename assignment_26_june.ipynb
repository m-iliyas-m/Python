{
 "cells": [
  {
   "cell_type": "markdown",
   "id": "12002eec-4190-4df7-bc7c-926381036b4e",
   "metadata": {},
   "source": [
    "# Set operations\n"
   ]
  },
  {
   "cell_type": "markdown",
   "id": "8b7b789f-7d12-4808-99f2-16dfb6e561d2",
   "metadata": {},
   "source": [
    "### 1. difference"
   ]
  },
  {
   "cell_type": "code",
   "execution_count": null,
   "id": "c2170e8b-cf85-42d6-abab-d9c21e75bcb8",
   "metadata": {},
   "outputs": [],
   "source": [
    "setA = {10,20,30}\n",
    "setB = {30,40,50}\n",
    "print(setA.difference(setB))\n",
    "print(setB.difference(setA))"
   ]
  },
  {
   "cell_type": "markdown",
   "id": "c51de5fa-9544-42d9-a326-9269d47e0afb",
   "metadata": {},
   "source": [
    "### 2. issuperset"
   ]
  },
  {
   "cell_type": "code",
   "execution_count": null,
   "id": "7973cf0a-f006-4779-ac57-fa13c63428ca",
   "metadata": {},
   "outputs": [],
   "source": [
    "setA = {10,20,30}\n",
    "setB = {30,40,50}\n",
    "setC = {10,20,30,40,50}\n",
    "print(setC.issuperset(setA))\n",
    "print(setC.issuperset(setB))"
   ]
  },
  {
   "cell_type": "markdown",
   "id": "8675778a-f7d9-4ebc-82e0-8bd088cc759b",
   "metadata": {},
   "source": [
    "### 3. isdisjoint"
   ]
  },
  {
   "cell_type": "code",
   "execution_count": null,
   "id": "75f8304c-9f77-4901-9394-aaa0b2afe34b",
   "metadata": {},
   "outputs": [],
   "source": [
    "setA = {10,20,30}\n",
    "setB = {30,40,50}\n",
    "setC = {10,20}\n",
    "print(setB.isdisjoint(setA))\n",
    "print(setC.isdisjoint(setB))"
   ]
  },
  {
   "cell_type": "markdown",
   "id": "45e6949c-d021-40e7-8609-9593e98c5d07",
   "metadata": {},
   "source": [
    "### 4. symmetric_difference update"
   ]
  },
  {
   "cell_type": "code",
   "execution_count": null,
   "id": "dbd3ee4e-4b5b-40ea-ba57-dd82f1fcf3b0",
   "metadata": {},
   "outputs": [],
   "source": [
    "setA = {10,5,20,30}\n",
    "setB = {30,40,50}\n",
    "setC = {10,20}\n",
    "setA.symmetric_difference_update(setB)\n",
    "print(setA)\n",
    "print(setC.symmetric_difference(setB))"
   ]
  },
  {
   "cell_type": "markdown",
   "id": "c9e98b21-dd2d-4a93-bf1e-72eb870e6e34",
   "metadata": {},
   "source": [
    "## 5. print pattern\n"
   ]
  },
  {
   "cell_type": "code",
   "execution_count": null,
   "id": "6eb4b05c-006d-4a97-92ed-78690fbae4d4",
   "metadata": {},
   "outputs": [],
   "source": [
    "# *\n",
    "# ** \n",
    "# ***\n",
    "# ****\n",
    "# ***\n",
    "# **\n",
    "# *"
   ]
  },
  {
   "cell_type": "code",
   "execution_count": null,
   "id": "e4d4e339-bb79-471e-a26e-cbda891fb643",
   "metadata": {},
   "outputs": [],
   "source": [
    "row = int(input(\"Enter a number of row\"))\n",
    "for i in range(0,row):\n",
    "    for j in range(0,i+1):\n",
    "        print(\"*\",end=\"\")\n",
    "    print(\"\")\n",
    "for i in range(0,row):\n",
    "    for j in range(0,row-i-1):\n",
    "        print(\"*\",end=\"\")\n",
    "    print(\"\")"
   ]
  },
  {
   "cell_type": "markdown",
   "id": "73f35a1f-573a-4542-815c-2db3b609011c",
   "metadata": {},
   "source": [
    "## 6. print pattern"
   ]
  },
  {
   "cell_type": "code",
   "execution_count": null,
   "id": "58e3be52-5add-4a60-abd6-76e0a9c88cb3",
   "metadata": {},
   "outputs": [],
   "source": [
    "# ******\n",
    "# *    *\n",
    "# *    *\n",
    "# *    *\n",
    "# ******"
   ]
  },
  {
   "cell_type": "code",
   "execution_count": null,
   "id": "419068e1-c458-4738-a8a0-a7be626866c1",
   "metadata": {},
   "outputs": [],
   "source": [
    "row = int(input(\"Enter a number of row\"))\n",
    "for i in range(0,row):\n",
    "    for j in range(0,row):\n",
    "        if(i ==row-1 or i == 0 or j==row-1 or j==0):\n",
    "            print(\"*\",end=\"\")\n",
    "        else:\n",
    "             print(\" \",end=\"\")\n",
    "    print(\"\")"
   ]
  },
  {
   "cell_type": "markdown",
   "id": "062a90b8-9ca7-4d68-bb56-3c0be032b5be",
   "metadata": {},
   "source": [
    "## 7. print pattern"
   ]
  },
  {
   "cell_type": "code",
   "execution_count": null,
   "id": "adff175c-2f31-4348-876a-b343f55d32b7",
   "metadata": {},
   "outputs": [],
   "source": [
    "# 1\n",
    "# *\n",
    "# 2\n",
    "# **\n",
    "# 3\n",
    "# ***\n",
    "# 4\n",
    "# ****"
   ]
  },
  {
   "cell_type": "code",
   "execution_count": null,
   "id": "6b415170-eb83-4b60-ac7f-e1fc2da7091c",
   "metadata": {},
   "outputs": [],
   "source": [
    "row = int(input(\"Enter a number of row\"))\n",
    "for i in range(0,row):\n",
    "    print(i+1)\n",
    "    for j in range(0,i+1):\n",
    "        print(\"*\",end=\"\")\n",
    "    print(\"\")"
   ]
  },
  {
   "cell_type": "markdown",
   "id": "12406390-7553-43b0-9c17-e8a536abfd88",
   "metadata": {},
   "source": [
    "## 8. print pattern"
   ]
  },
  {
   "cell_type": "code",
   "execution_count": null,
   "id": "b4cbca9f-2bb8-4725-bb5d-592ef5bcede3",
   "metadata": {},
   "outputs": [],
   "source": [
    "# 1*\n",
    "# 2****\n",
    "# 3*********\n",
    "# 4*****************"
   ]
  },
  {
   "cell_type": "code",
   "execution_count": null,
   "id": "190ce67d-cd49-4f7d-9845-70fa67ae6db5",
   "metadata": {},
   "outputs": [],
   "source": [
    "row = int(input(\"Enter a number of row\"))\n",
    "for i in range(1,row+1):\n",
    "    print(i,end=\"\")\n",
    "    for j in range(1,(i*i)+1):\n",
    "        print(\"*\",end=\"\")\n",
    "    print(\"\")"
   ]
  },
  {
   "cell_type": "code",
   "execution_count": null,
   "id": "21a7b1af-09ca-48d1-988b-a943d6957461",
   "metadata": {},
   "outputs": [],
   "source": []
  }
 ],
 "metadata": {
  "kernelspec": {
   "display_name": "Python 3 (ipykernel)",
   "language": "python",
   "name": "python3"
  },
  "language_info": {
   "codemirror_mode": {
    "name": "ipython",
    "version": 3
   },
   "file_extension": ".py",
   "mimetype": "text/x-python",
   "name": "python",
   "nbconvert_exporter": "python",
   "pygments_lexer": "ipython3",
   "version": "3.9.13"
  }
 },
 "nbformat": 4,
 "nbformat_minor": 5
}
