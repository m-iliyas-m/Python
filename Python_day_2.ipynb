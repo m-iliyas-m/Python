{
 "cells": [
  {
   "cell_type": "markdown",
   "id": "4a26264e-81cd-4952-be31-4d41b8588662",
   "metadata": {},
   "source": [
    "assignment multiple operator"
   ]
  },
  {
   "cell_type": "code",
   "execution_count": null,
   "id": "47e51aae-3393-4713-8d14-31e16d002704",
   "metadata": {},
   "outputs": [],
   "source": [
    "salary  = 100\n",
    "#salary = salary*5\n",
    "salary *= 5\n",
    "print(salary)"
   ]
  },
  {
   "cell_type": "markdown",
   "id": "1e2ea725-04b6-4be2-be66-bec3cf663801",
   "metadata": {},
   "source": [
    "Bit - wise operator"
   ]
  },
  {
   "cell_type": "code",
   "execution_count": null,
   "id": "2f747828-0327-4edc-b673-0f3901bfd728",
   "metadata": {},
   "outputs": [],
   "source": [
    "10 & 9"
   ]
  },
  {
   "cell_type": "code",
   "execution_count": 3,
   "id": "f6fe7f42-537c-49b2-b725-4fc33addf5c1",
   "metadata": {},
   "outputs": [
    {
     "data": {
      "text/plain": [
       "11"
      ]
     },
     "execution_count": 3,
     "metadata": {},
     "output_type": "execute_result"
    }
   ],
   "source": [
    "10 |9"
   ]
  },
  {
   "cell_type": "markdown",
   "id": "5b2e5e3d-875c-4732-8efc-2b075bba3d8f",
   "metadata": {},
   "source": [
    "right shift"
   ]
  },
  {
   "cell_type": "code",
   "execution_count": 12,
   "id": "fff4df6a-4570-4427-97da-2d0243a77e16",
   "metadata": {},
   "outputs": [
    {
     "data": {
      "text/plain": [
       "2"
      ]
     },
     "execution_count": 12,
     "metadata": {},
     "output_type": "execute_result"
    }
   ],
   "source": [
    "11>>2\n",
    "#11//2**2"
   ]
  },
  {
   "cell_type": "markdown",
   "id": "7c3782dc-f65c-4293-9ca5-5ffd725c9500",
   "metadata": {},
   "source": [
    "left shift"
   ]
  },
  {
   "cell_type": "code",
   "execution_count": 11,
   "id": "56fed4da-6ea8-4eba-a52b-61340d671fb8",
   "metadata": {},
   "outputs": [
    {
     "data": {
      "text/plain": [
       "44"
      ]
     },
     "execution_count": 11,
     "metadata": {},
     "output_type": "execute_result"
    }
   ],
   "source": [
    "11<<2\n",
    "# 11*2**2"
   ]
  },
  {
   "cell_type": "markdown",
   "id": "79717c0e-5f62-4480-8594-976d11e49c97",
   "metadata": {},
   "source": [
    "membership operator"
   ]
  },
  {
   "cell_type": "code",
   "execution_count": 20,
   "id": "19acf2a0-07d5-47f3-8905-33147f07e375",
   "metadata": {},
   "outputs": [
    {
     "data": {
      "text/plain": [
       "True"
      ]
     },
     "execution_count": 20,
     "metadata": {},
     "output_type": "execute_result"
    }
   ],
   "source": [
    "\"r\" and \"j\" in \"rajasthan\""
   ]
  },
  {
   "cell_type": "markdown",
   "id": "2f39e162-dee3-41dc-88e9-3a9dc7d98453",
   "metadata": {},
   "source": [
    "indentity operator"
   ]
  },
  {
   "cell_type": "code",
   "execution_count": 32,
   "id": "05769522-a9ad-4d15-81cb-15fdd5855d4c",
   "metadata": {},
   "outputs": [
    {
     "data": {
      "text/plain": [
       "True"
      ]
     },
     "execution_count": 32,
     "metadata": {},
     "output_type": "execute_result"
    }
   ],
   "source": [
    "age =19\n",
    "type(age) is int "
   ]
  },
  {
   "cell_type": "code",
   "execution_count": 34,
   "id": "02d216b8-3fd3-4622-81a4-e33288730198",
   "metadata": {},
   "outputs": [
    {
     "name": "stdout",
     "output_type": "stream",
     "text": [
      "19\n"
     ]
    }
   ],
   "source": [
    "if(age == 18):\n",
    "    print(\"yes\")\n",
    "elif(age == 19):\n",
    "    print(\"19\")\n",
    "else:\n",
    "    print(\"no\")"
   ]
  },
  {
   "cell_type": "code",
   "execution_count": 40,
   "id": "789b5950-a321-46b6-bf21-b239fb0607cd",
   "metadata": {},
   "outputs": [
    {
     "name": "stdout",
     "output_type": "stream",
     "text": [
      "num2\n"
     ]
    }
   ],
   "source": [
    "num1 = 40\n",
    "num2 = 90\n",
    "num3 = 30\n",
    "if(num1 >= num2 and num1 >= num3) :\n",
    "    print(\"num1\")\n",
    "elif(num2 >= num3 and num2 >= num1) :\n",
    "    print(\"num2\")\n",
    "else:\n",
    "    print(\"num3\")"
   ]
  },
  {
   "cell_type": "code",
   "execution_count": 44,
   "id": "cfc10c34-71f3-4ddf-9aef-6a2ddf7ac268",
   "metadata": {},
   "outputs": [
    {
     "name": "stdout",
     "output_type": "stream",
     "text": [
      "6\n"
     ]
    }
   ],
   "source": [
    "a = \"rtkktt\"\n",
    "if(type(a)== str):\n",
    "    print(len(a))\n",
    "else:\n",
    "    print(not string)"
   ]
  },
  {
   "cell_type": "code",
   "execution_count": 47,
   "id": "5a2a70c9-dc8b-4f97-a61e-755ae595ad9d",
   "metadata": {},
   "outputs": [
    {
     "name": "stdout",
     "output_type": "stream",
     "text": [
      "not divisible\n"
     ]
    }
   ],
   "source": [
    "num = 16\n",
    "if(num%6==0):\n",
    "    print(\"divisible\")\n",
    "else:\n",
    "    print(\"not divisible\")"
   ]
  },
  {
   "cell_type": "code",
   "execution_count": 55,
   "id": "9f3ff5d0-53ec-444d-9a5a-6681e2605224",
   "metadata": {},
   "outputs": [
    {
     "name": "stdout",
     "output_type": "stream",
     "text": [
      "user tushar 18\n"
     ]
    }
   ],
   "source": [
    "age = 18\n",
    "user = \"tushar\"\n",
    "if(age == 18):\n",
    "    if(user == \"tushar\"):\n",
    "        print(\"user\",user,age)\n",
    "    else:\n",
    "        print(\"name is not tushar\")\n",
    "else:\n",
    "    print(\"Age is not 18\")"
   ]
  },
  {
   "cell_type": "code",
   "execution_count": 62,
   "id": "09ea1055-636c-44ae-89dc-d987e7a567a5",
   "metadata": {},
   "outputs": [
    {
     "name": "stdin",
     "output_type": "stream",
     "text": [
      "Enter a number 6\n"
     ]
    }
   ],
   "source": [
    "a=input(\"Enter a number\")"
   ]
  },
  {
   "cell_type": "code",
   "execution_count": 63,
   "id": "35d499b6-85d5-471a-9402-5361a0b6f5d4",
   "metadata": {},
   "outputs": [
    {
     "name": "stdout",
     "output_type": "stream",
     "text": [
      "<class 'str'>\n"
     ]
    }
   ],
   "source": [
    "print(type(a))"
   ]
  },
  {
   "cell_type": "code",
   "execution_count": 3,
   "id": "dc469b84-65cc-4356-9709-e6245ad2e7b3",
   "metadata": {},
   "outputs": [
    {
     "name": "stdin",
     "output_type": "stream",
     "text": [
      "enter a number 5\n"
     ]
    },
    {
     "name": "stdout",
     "output_type": "stream",
     "text": [
      "not in between 6 to 20\n"
     ]
    }
   ],
   "source": [
    "a =int(input(\"enter a number\"))\n",
    "if (type(a) == int):\n",
    "    if(6 <= a and a<=20):\n",
    "        print(a)\n",
    "    else: \n",
    "        print(\"not in between 6 to 20\")\n",
    "else:\n",
    "    print(\"not an integer\")"
   ]
  },
  {
   "cell_type": "code",
   "execution_count": 122,
   "id": "65a0ed8c-46b0-455f-a8d7-0f46a949381c",
   "metadata": {},
   "outputs": [
    {
     "name": "stdout",
     "output_type": "stream",
     "text": [
      "50 48 46 44 42 40 38 36 34 32 30 28 26 24 22 20 18 16 14 12 10 8 6 4 2 "
     ]
    }
   ],
   "source": [
    "int = 6;\n",
    "for a in range(50,1,-2):\n",
    "    print(a,end=\" \")"
   ]
  },
  {
   "cell_type": "code",
   "execution_count": 125,
   "id": "b37ae1fa-0df7-4174-bef4-dae5fc9ab03f",
   "metadata": {},
   "outputs": [
    {
     "name": "stdout",
     "output_type": "stream",
     "text": [
      "h e l l o "
     ]
    }
   ],
   "source": [
    "a = \"hello\"\n",
    "for chr in a:\n",
    "    print(chr,end = \" \")"
   ]
  },
  {
   "cell_type": "code",
   "execution_count": 130,
   "id": "bc8295f4-f52d-4879-bec3-fc4c5debe3fa",
   "metadata": {},
   "outputs": [
    {
     "name": "stdout",
     "output_type": "stream",
     "text": [
      "10\n",
      "      13\n",
      "16\n",
      "      19\n",
      "22\n"
     ]
    }
   ],
   "source": [
    "for i in range(10,25,3):\n",
    "    if(i%2==0):\n",
    "        print(i)\n",
    "    else:\n",
    "        print(\"     \",i)"
   ]
  },
  {
   "cell_type": "code",
   "execution_count": null,
   "id": "8b041d34-e079-4409-834e-38474bd5ff11",
   "metadata": {},
   "outputs": [],
   "source": [
    "name = input(\"enter a string\")\n",
    "for i in range(0,len(name)):\n",
    "    if(i%2 == 0):\n",
    "        print(i,name[i])\n"
   ]
  },
  {
   "cell_type": "code",
   "execution_count": 6,
   "id": "09295250-de35-4dfe-a117-39c9d6b1e4b9",
   "metadata": {},
   "outputs": [
    {
     "name": "stdin",
     "output_type": "stream",
     "text": [
      "enter a number 5\n"
     ]
    },
    {
     "name": "stdout",
     "output_type": "stream",
     "text": [
      "0\n",
      "2\n",
      "4\n"
     ]
    }
   ],
   "source": [
    "num = int(input(\"enter a number\"))\n",
    "for i in range(0,num):\n",
    "    if(i%2 == 0):\n",
    "        print(i)"
   ]
  },
  {
   "cell_type": "code",
   "execution_count": 8,
   "id": "fc0577d5-4140-4d5a-bfca-608456195156",
   "metadata": {},
   "outputs": [
    {
     "name": "stdout",
     "output_type": "stream",
     "text": [
      "*********\n",
      "*       *\n",
      "*       *\n",
      "*       *\n",
      "*       *\n",
      "*       *\n",
      "*       *\n",
      "*       *\n",
      "*********\n"
     ]
    }
   ],
   "source": [
    "n = 9\n",
    "for i in range(1,n+1):\n",
    "    for j in range(1,n+1):\n",
    "        if(i==1 or i==n or j==1 or j==n):\n",
    "                print(\"*\",end=\"\")\n",
    "        else:\n",
    "            print(\" \",end=\"\")\n",
    "    print(\"\")\n",
    "    "
   ]
  },
  {
   "cell_type": "code",
   "execution_count": 2,
   "id": "b510c258-09f2-46d2-b352-ec17f56dd3af",
   "metadata": {},
   "outputs": [
    {
     "name": "stdout",
     "output_type": "stream",
     "text": [
      "2   3   4   5   6   \n",
      "3   4   5   6   7   \n",
      "4   5   6   7   8   \n",
      "5   6   7   8   9   \n",
      "6   7   8   9   10   \n"
     ]
    }
   ],
   "source": [
    "for row in range(1,6):\n",
    "    for column in range(1,6):\n",
    "        print(row+column,\" \",end=\" \")\n",
    "    print(\"\")"
   ]
  },
  {
   "cell_type": "code",
   "execution_count": 10,
   "id": "3b6984c7-6b63-412e-b3a7-66d80f91e49a",
   "metadata": {},
   "outputs": [
    {
     "name": "stdout",
     "output_type": "stream",
     "text": [
      "1 \n",
      "2 3 \n",
      "4 5 6 \n",
      "7 8 9 10 \n",
      "11 12 13 14 15 \n"
     ]
    }
   ],
   "source": [
    "n=1\n",
    "for row in range(1,6):\n",
    "    for column in range(1,row+1):\n",
    "        print(n,end=\" \")\n",
    "        n += 1\n",
    "    print(\"\")\n",
    "    "
   ]
  },
  {
   "cell_type": "code",
   "execution_count": 23,
   "id": "748a5b28-50d2-4924-9e5e-08faac71b5e2",
   "metadata": {},
   "outputs": [
    {
     "name": "stdout",
     "output_type": "stream",
     "text": [
      "* * * * \n",
      "* * * \n",
      "* * \n",
      "* \n"
     ]
    }
   ],
   "source": [
    "for row in range(1,5):\n",
    "    for column in range(5,row,-1):\n",
    "        print(\"*\",end=\" \")\n",
    "    print(\"\")"
   ]
  },
  {
   "cell_type": "code",
   "execution_count": null,
   "id": "77b0debd-756f-4207-95e4-065c92ec2700",
   "metadata": {},
   "outputs": [],
   "source": []
  }
 ],
 "metadata": {
  "kernelspec": {
   "display_name": "Python 3 (ipykernel)",
   "language": "python",
   "name": "python3"
  },
  "language_info": {
   "codemirror_mode": {
    "name": "ipython",
    "version": 3
   },
   "file_extension": ".py",
   "mimetype": "text/x-python",
   "name": "python",
   "nbconvert_exporter": "python",
   "pygments_lexer": "ipython3",
   "version": "3.9.13"
  }
 },
 "nbformat": 4,
 "nbformat_minor": 5
}
