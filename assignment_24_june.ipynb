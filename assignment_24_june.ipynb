{
 "cells": [
  {
   "cell_type": "markdown",
   "id": "e4b0eada-09dd-4d86-9efa-3e031cb863cc",
   "metadata": {},
   "source": [
    "### 1. Take a input from the user and count the character and put it into the directory."
   ]
  },
  {
   "cell_type": "code",
   "execution_count": null,
   "id": "9cd13cb5-1723-4e5e-a510-66133ecd2992",
   "metadata": {},
   "outputs": [],
   "source": [
    "strr = input(\"Enter a string\")\n",
    "count = {}\n",
    "for chrr in strr:\n",
    "    if chrr in count:\n",
    "        count[chrr] += 1\n",
    "    else:\n",
    "        count[chrr]= 1\n",
    "for chrr in count:\n",
    "    print(chrr,\":\",count[chrr])"
   ]
  },
  {
   "cell_type": "markdown",
   "id": "f1810d7a-8d9c-492b-9c60-932b6407c39b",
   "metadata": {},
   "source": [
    "### 2. take a input from user if this conditions are true A-P,c-z,0-9,(@,#,!)\n",
    "                                                                "
   ]
  },
  {
   "cell_type": "code",
   "execution_count": null,
   "id": "43d0e35e-bb3b-4d70-a223-d5e1396371d7",
   "metadata": {},
   "outputs": [],
   "source": [
    "string = input(\"Enter a string\")\n",
    "lowc = 0\n",
    "uprc = 0\n",
    "num = 0\n",
    "sym = 0\n",
    "for chrr in string:\n",
    "    if(\"A\" <= chrr <= \"P\"):\n",
    "        uprc +=1\n",
    "    elif(\"c\" <= chrr <= \"z\"):\n",
    "        lowc += 1\n",
    "    elif(chrr == \"@\" or chrr == \"#\" or chrr == \"!\"):\n",
    "        sym += 1\n",
    "    elif(\"9\" >= chrr >= \"0\"):\n",
    "        num += 1\n",
    "if(lowc > 0 and uprc > 0 and num > 0 and sym >0):\n",
    "    print(bool(1))\n",
    "else:\n",
    "    print(bool(0))\n",
    "    "
   ]
  },
  {
   "cell_type": "code",
   "execution_count": null,
   "id": "8709578f-7667-4117-9705-e5c844dac216",
   "metadata": {},
   "outputs": [],
   "source": [
    "# 3. print a pattern\n",
    "#        *\n",
    "#      * *\t\t\n",
    "#    * * * \n",
    "#  * * * *"
   ]
  },
  {
   "cell_type": "code",
   "execution_count": null,
   "id": "6851e444-ba21-4929-9e8c-e544db0b12aa",
   "metadata": {},
   "outputs": [],
   "source": [
    "for i in range(0,5):\n",
    "    for j in range(0,5):\n",
    "        if (i+j >= 4):\n",
    "            print(\"*\",end=\"\")\n",
    "        else:\n",
    "            print(\" \", end=\"\")\n",
    "    print(\"\")\n",
    "        "
   ]
  },
  {
   "cell_type": "code",
   "execution_count": null,
   "id": "aa3e9d47-9e42-4517-bd17-6cf0eb34a337",
   "metadata": {
    "tags": []
   },
   "outputs": [],
   "source": [
    "#4. print the pattern\n",
    "#   *\n",
    "#   ***\n",
    "#  *****\n",
    "# *******\n",
    "\n"
   ]
  },
  {
   "cell_type": "code",
   "execution_count": null,
   "id": "7fdf27b3-660b-4c76-9cb2-830c71e7420a",
   "metadata": {},
   "outputs": [],
   "source": [
    "row = int(input(\"Enter the number of row\"))\n",
    "for i in range(row):\n",
    "    for j in range(row-i-1):\n",
    "        print(\" \",end=\"\")\n",
    "    for k in range(2*i+1):\n",
    "        print(\"*\",end=\"\")\n",
    "    print(\"\")"
   ]
  },
  {
   "cell_type": "code",
   "execution_count": null,
   "id": "5ec1a4b9-6157-4535-9965-bdd53687e102",
   "metadata": {},
   "outputs": [],
   "source": []
  }
 ],
 "metadata": {
  "kernelspec": {
   "display_name": "Python 3 (ipykernel)",
   "language": "python",
   "name": "python3"
  },
  "language_info": {
   "codemirror_mode": {
    "name": "ipython",
    "version": 3
   },
   "file_extension": ".py",
   "mimetype": "text/x-python",
   "name": "python",
   "nbconvert_exporter": "python",
   "pygments_lexer": "ipython3",
   "version": "3.9.13"
  }
 },
 "nbformat": 4,
 "nbformat_minor": 5
}
